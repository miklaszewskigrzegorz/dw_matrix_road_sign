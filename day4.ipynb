{
  "nbformat": 4,
  "nbformat_minor": 0,
  "metadata": {
    "colab": {
      "name": "day4.ipynb",
      "provenance": [],
      "collapsed_sections": [],
      "mount_file_id": "1lE-chUjgPOKRNu0ipaqFDxW96s7ZtWZN",
      "authorship_tag": "ABX9TyPr5W0hG1loHTatXGy8V0zP",
      "include_colab_link": true
    },
    "kernelspec": {
      "name": "python3",
      "display_name": "Python 3"
    },
    "accelerator": "GPU"
  },
  "cells": [
    {
      "cell_type": "markdown",
      "metadata": {
        "id": "view-in-github",
        "colab_type": "text"
      },
      "source": [
        "<a href=\"https://colab.research.google.com/github/miklaszewskigrzegorz/dw_matrix_road_sign/blob/master/day4.ipynb\" target=\"_parent\"><img src=\"https://colab.research.google.com/assets/colab-badge.svg\" alt=\"Open In Colab\"/></a>"
      ]
    },
    {
      "cell_type": "code",
      "metadata": {
        "id": "x2tA6ZSm_KjJ",
        "colab_type": "code",
        "colab": {}
      },
      "source": [
        "import pandas as pd\n",
        "import numpy as np\n",
        "import os\n",
        "import datetime\n",
        "\n",
        "import tensorflow as tf\n",
        "from tensorflow.keras.models import Sequential\n",
        "from tensorflow.keras.layers import Conv2D, MaxPool2D, Dense, Flatten, Dropout\n",
        "from tensorflow.keras.utils import to_categorical\n",
        "\n",
        "%reload_ext tensorboard\n",
        "\n",
        "import matplotlib.pyplot as plt\n",
        "from skimage import color, exposure\n",
        "\n",
        "\n",
        "from sklearn.metrics import accuracy_score\n"
      ],
      "execution_count": 0,
      "outputs": []
    },
    {
      "cell_type": "code",
      "metadata": {
        "id": "h2IE2oZT_uzB",
        "colab_type": "code",
        "outputId": "0165bc8d-c9ec-471d-be7b-fddb0a650fe0",
        "colab": {
          "base_uri": "https://localhost:8080/",
          "height": 33
        }
      },
      "source": [
        "cd '/content/drive/My Drive/Colab Notebooks/dw_matrix/matrix_tree/dw_matrix_road_sign'"
      ],
      "execution_count": 2,
      "outputs": [
        {
          "output_type": "stream",
          "text": [
            "/content/drive/My Drive/Colab Notebooks/dw_matrix/matrix_tree/dw_matrix_road_sign\n"
          ],
          "name": "stdout"
        }
      ]
    },
    {
      "cell_type": "code",
      "metadata": {
        "id": "Q432Ne39_4FO",
        "colab_type": "code",
        "colab": {}
      },
      "source": [
        "train = pd.read_pickle('data/train.p')\n",
        "test  = pd.read_pickle('data/test.p')\n",
        "\n",
        "X_train, y_train = train['features'], train['labels']\n",
        "X_test , y_test  = test ['features'], test ['labels']"
      ],
      "execution_count": 0,
      "outputs": []
    },
    {
      "cell_type": "code",
      "metadata": {
        "id": "zGdaglK3AUNa",
        "colab_type": "code",
        "outputId": "ebeb925a-fc53-4490-9d4c-e1c456627dde",
        "colab": {
          "base_uri": "https://localhost:8080/",
          "height": 33
        }
      },
      "source": [
        "y_train"
      ],
      "execution_count": 4,
      "outputs": [
        {
          "output_type": "execute_result",
          "data": {
            "text/plain": [
              "array([41, 41, 41, ..., 25, 25, 25], dtype=uint8)"
            ]
          },
          "metadata": {
            "tags": []
          },
          "execution_count": 4
        }
      ]
    },
    {
      "cell_type": "code",
      "metadata": {
        "id": "ph6BqHftAVhq",
        "colab_type": "code",
        "outputId": "950eb5aa-0e60-4c7b-f7a4-06f8c0ee1312",
        "colab": {
          "base_uri": "https://localhost:8080/",
          "height": 33
        }
      },
      "source": [
        "len(np.unique(y_train)) #check how many unique (on y_train) \n",
        "                        #output = 43\n",
        "                        # it means that we need to 43 column for fetures in binary code 1/0\n",
        "                        # is this feature in column = 1 \n",
        "                        # and 42 column give valie  = 0"
      ],
      "execution_count": 5,
      "outputs": [
        {
          "output_type": "execute_result",
          "data": {
            "text/plain": [
              "43"
            ]
          },
          "metadata": {
            "tags": []
          },
          "execution_count": 5
        }
      ]
    },
    {
      "cell_type": "code",
      "metadata": {
        "id": "LXhJDmrnAf0O",
        "colab_type": "code",
        "outputId": "159384f7-90a8-4a12-b176-d83ab1737f93",
        "colab": {
          "base_uri": "https://localhost:8080/",
          "height": 66
        }
      },
      "source": [
        "np.unique(y_train) # because array start at 0 and finish at 42.\n",
        "                   # means (0-42) -- array with unique 43 value\n",
        "                   # the highets is 42"
      ],
      "execution_count": 6,
      "outputs": [
        {
          "output_type": "execute_result",
          "data": {
            "text/plain": [
              "array([ 0,  1,  2,  3,  4,  5,  6,  7,  8,  9, 10, 11, 12, 13, 14, 15, 16,\n",
              "       17, 18, 19, 20, 21, 22, 23, 24, 25, 26, 27, 28, 29, 30, 31, 32, 33,\n",
              "       34, 35, 36, 37, 38, 39, 40, 41, 42], dtype=uint8)"
            ]
          },
          "metadata": {
            "tags": []
          },
          "execution_count": 6
        }
      ]
    },
    {
      "cell_type": "code",
      "metadata": {
        "id": "M_WnZVPGA2Lz",
        "colab_type": "code",
        "colab": {}
      },
      "source": [
        "if y_train.ndim == 1: y_train = to_categorical(y_train)\n",
        "if y_test.ndim == 1: y_test = to_categorical(y_test)"
      ],
      "execution_count": 0,
      "outputs": []
    },
    {
      "cell_type": "code",
      "metadata": {
        "id": "bsKvDUmdA5Zf",
        "colab_type": "code",
        "colab": {}
      },
      "source": [
        "input_shape = X_train.shape[1:]\n",
        "num_classes = y_train.shape[1]"
      ],
      "execution_count": 0,
      "outputs": []
    },
    {
      "cell_type": "code",
      "metadata": {
        "id": "SDAHiaeGA-JB",
        "colab_type": "code",
        "outputId": "c3868bf7-df85-4de1-a558-3c7ebd21a846",
        "colab": {
          "base_uri": "https://localhost:8080/",
          "height": 50
        }
      },
      "source": [
        "\n",
        "model = Sequential([\n",
        "        Conv2D(filters=64, kernel_size=(3,3), activation='relu', input_shape=input_shape),\n",
        "        Flatten(),\n",
        "        Dense(num_classes, activation='softmax'),       \n",
        "      ])\n",
        "#model.summary()\n",
        "\n",
        "\n",
        "model.compile(loss='categorical_crossentropy', optimizer=\"Adam\", metrics=['accuracy'])\n",
        "model.fit(X_train, y_train)"
      ],
      "execution_count": 59,
      "outputs": [
        {
          "output_type": "stream",
          "text": [
            "1088/1088 [==============================] - 5s 5ms/step - loss: 9.3333 - accuracy: 0.7726\n"
          ],
          "name": "stdout"
        },
        {
          "output_type": "execute_result",
          "data": {
            "text/plain": [
              "<tensorflow.python.keras.callbacks.History at 0x7fc5ccc1f8d0>"
            ]
          },
          "metadata": {
            "tags": []
          },
          "execution_count": 59
        }
      ]
    },
    {
      "cell_type": "code",
      "metadata": {
        "id": "7pb7AQT8BCor",
        "colab_type": "code",
        "colab": {}
      },
      "source": [
        "def get_cnn_v1(input_shape, num_classes):\n",
        "  return Sequential([\n",
        "        Conv2D(filters=64, kernel_size=(3,3), activation='relu', input_shape=input_shape),\n",
        "        Flatten(),\n",
        "        Dense(num_classes, activation='softmax'),       \n",
        "      ])\n",
        "\n",
        "\n",
        "def train_model(model, X_train, y_train, params_fit={}):\n",
        "  model.compile(loss='categorical_crossentropy', optimizer=\"Adam\", metrics=['accuracy'])\n",
        "\n",
        " \n",
        "\n",
        "  logdir = os.path.join(\"logs\", datetime.datetime.now().strftime(\"%Y%m%d-%H%M%S\"))\n",
        "  tensorboard_callbacks = tf.keras.callbacks.TensorBoard(logdir, histogram_freq=1)\n",
        "\n",
        "  model.fit(\n",
        "      X_train, \n",
        "      y_train,\n",
        "      batch_size=params_fit.get('batch_size', 128),\n",
        "      epochs=params_fit.get('epochs', 5),\n",
        "      verbose=params_fit.get('verbose', 1),\n",
        "      validation_data=params_fit.get('validation_data', (X_train, y_train)),\n",
        "      callbacks= [tensorboard_callbacks]\n",
        "      )\n",
        "  \n",
        "  return model\n",
        "  # yesterday >> in day3 >> OUTPUT is 'logdir'\n",
        "  # now       >> in day4 >> OUTPUT is 'model'"
      ],
      "execution_count": 0,
      "outputs": []
    },
    {
      "cell_type": "code",
      "metadata": {
        "id": "xZcHZlcLq_Bw",
        "colab_type": "code",
        "colab": {
          "base_uri": "https://localhost:8080/",
          "height": 33
        },
        "outputId": "1f328a2d-e2d8-40c9-fb95-7de5da5c1bcd"
      },
      "source": [
        "train_model(model, X_train, y_train, )"
      ],
      "execution_count": 49,
      "outputs": [
        {
          "output_type": "execute_result",
          "data": {
            "text/plain": [
              "<function __main__.train_model>"
            ]
          },
          "metadata": {
            "tags": []
          },
          "execution_count": 49
        }
      ]
    },
    {
      "cell_type": "code",
      "metadata": {
        "id": "--5-k5YEBRlj",
        "colab_type": "code",
        "outputId": "0c8a01f2-de9c-4f79-bc7f-336abb6884b1",
        "colab": {
          "base_uri": "https://localhost:8080/",
          "height": 180
        }
      },
      "source": [
        "model = get_cnn_v1(input_shape, num_classes)\n",
        "model_trained = train_model(model, X_train, y_train) #'change on model_trained from logdir'\n"
      ],
      "execution_count": 41,
      "outputs": [
        {
          "output_type": "stream",
          "text": [
            "Epoch 1/5\n",
            "272/272 [==============================] - 5s 18ms/step - loss: 18.6428 - accuracy: 0.7423 - val_loss: 0.2438 - val_accuracy: 0.9389\n",
            "Epoch 2/5\n",
            "272/272 [==============================] - 5s 17ms/step - loss: 0.2362 - accuracy: 0.9464 - val_loss: 0.1610 - val_accuracy: 0.9618\n",
            "Epoch 3/5\n",
            "272/272 [==============================] - 5s 17ms/step - loss: 0.1343 - accuracy: 0.9678 - val_loss: 0.1125 - val_accuracy: 0.9735\n",
            "Epoch 4/5\n",
            "272/272 [==============================] - 5s 17ms/step - loss: 0.1478 - accuracy: 0.9667 - val_loss: 0.1171 - val_accuracy: 0.9701\n",
            "Epoch 5/5\n",
            "272/272 [==============================] - 5s 17ms/step - loss: 0.0929 - accuracy: 0.9787 - val_loss: 0.0527 - val_accuracy: 0.9870\n"
          ],
          "name": "stdout"
        }
      ]
    },
    {
      "cell_type": "code",
      "metadata": {
        "id": "OApyzbiPCLNZ",
        "colab_type": "code",
        "colab": {}
      },
      "source": [
        ""
      ],
      "execution_count": 0,
      "outputs": []
    },
    {
      "cell_type": "code",
      "metadata": {
        "id": "MA5llomWCS8P",
        "colab_type": "code",
        "outputId": "cddf7473-8c8b-424b-d86b-190bda3b0264",
        "colab": {
          "base_uri": "https://localhost:8080/",
          "height": 228
        }
      },
      "source": [
        "y_pred_prob = model_trained.predict(X_test)\n",
        "y_pred_prob"
      ],
      "execution_count": 42,
      "outputs": [
        {
          "output_type": "execute_result",
          "data": {
            "text/plain": [
              "array([[2.40682162e-11, 3.81993414e-06, 6.08619209e-03, ...,\n",
              "        1.12182926e-03, 2.72770303e-05, 1.14521231e-06],\n",
              "       [9.97735228e-12, 7.71311170e-05, 1.12535834e-01, ...,\n",
              "        2.76859617e-04, 6.07152284e-09, 6.95328879e-08],\n",
              "       [8.84150753e-10, 1.68835013e-05, 3.24308081e-03, ...,\n",
              "        1.12599728e-03, 8.39891727e-05, 2.35427001e-06],\n",
              "       ...,\n",
              "       [1.98321533e-03, 4.39409679e-03, 1.20458696e-02, ...,\n",
              "        9.51356255e-03, 1.17301084e-02, 1.73750368e-03],\n",
              "       [1.01961114e-03, 8.62216949e-03, 3.00132893e-02, ...,\n",
              "        2.40203235e-02, 9.39990953e-03, 1.15035230e-03],\n",
              "       [5.35963743e-04, 4.73309215e-03, 1.02678789e-02, ...,\n",
              "        6.78530661e-03, 7.06104888e-03, 2.50141881e-03]], dtype=float32)"
            ]
          },
          "metadata": {
            "tags": []
          },
          "execution_count": 42
        }
      ]
    },
    {
      "cell_type": "code",
      "metadata": {
        "id": "OFZnodSNQ1E3",
        "colab_type": "code",
        "colab": {}
      },
      "source": [
        ""
      ],
      "execution_count": 0,
      "outputs": []
    },
    {
      "cell_type": "code",
      "metadata": {
        "id": "N5BF-P9cCcaC",
        "colab_type": "code",
        "outputId": "79c9a36a-7eb5-4fc2-f508-0bc8de148def",
        "colab": {
          "base_uri": "https://localhost:8080/",
          "height": 196
        }
      },
      "source": [
        "y_pred_prob[400] #prawdopodobieństwo do każdej klasy"
      ],
      "execution_count": 13,
      "outputs": [
        {
          "output_type": "execute_result",
          "data": {
            "text/plain": [
              "array([3.5532516e-06, 8.3527017e-01, 1.1300701e-05, 5.7367309e-11,\n",
              "       1.6471076e-01, 4.3130121e-06, 7.2361862e-14, 2.9410221e-14,\n",
              "       9.1340054e-18, 1.5345392e-12, 2.1598141e-14, 8.4587759e-15,\n",
              "       1.7058524e-16, 8.1799891e-18, 5.0913906e-25, 8.2962233e-09,\n",
              "       1.2903855e-21, 7.6900543e-24, 5.6317942e-15, 5.1245919e-33,\n",
              "       7.0834321e-18, 2.3195114e-11, 4.5502481e-32, 1.6037741e-21,\n",
              "       5.7652233e-20, 5.5157347e-20, 2.0392078e-14, 3.6467492e-20,\n",
              "       1.2930279e-19, 4.4323435e-18, 9.6064852e-18, 1.2005972e-16,\n",
              "       2.6137636e-18, 9.7576927e-25, 3.6446900e-28, 5.3827233e-28,\n",
              "       1.5480811e-29, 0.0000000e+00, 4.0188804e-29, 0.0000000e+00,\n",
              "       2.7379648e-28, 4.1096113e-26, 3.0318796e-11], dtype=float32)"
            ]
          },
          "metadata": {
            "tags": []
          },
          "execution_count": 13
        }
      ]
    },
    {
      "cell_type": "code",
      "metadata": {
        "id": "WTngLfZ_RXJs",
        "colab_type": "code",
        "outputId": "b71f7c23-6e62-4030-9a92-b842d2c942f4",
        "colab": {
          "base_uri": "https://localhost:8080/",
          "height": 33
        }
      },
      "source": [
        "# sprawdzenie (jak zsumujesz wszystkie prawdopodobieństwa dostajesz 1 czyli 100 ale któreś\n",
        "# prawdopodobieństwo wygrywa można to zobaczyć)\n",
        "np.sum( [3.75506177e-04, 4.82066564e-04, 6.36566924e-08, 3.26784232e-07,\n",
        "       9.99142051e-01, 5.98595562e-10, 1.80969004e-10, 1.36401036e-14,\n",
        "       1.71345880e-21, 2.57636208e-12, 8.12250725e-15, 1.20095878e-16,\n",
        "       1.04866330e-14, 3.93914472e-16, 2.94079484e-19, 8.60857968e-23,\n",
        "       7.20812079e-15, 2.19962054e-29, 2.71608288e-16, 3.65083716e-22,\n",
        "       1.15114285e-14, 2.04425727e-15, 9.24650733e-32, 2.73048002e-17,\n",
        "       1.10224258e-16, 5.23349259e-15, 7.62699428e-20, 6.65868015e-27,\n",
        "       1.89356367e-14, 9.28463605e-19, 2.59970579e-23, 1.22349938e-12,\n",
        "       3.01188399e-15, 9.70021632e-11, 1.31402934e-22, 9.57124691e-09,\n",
        "       2.46361576e-23, 1.63593945e-24, 4.87318277e-16, 1.00535564e-21,\n",
        "       5.42656323e-17, 9.24498660e-18, 4.08617917e-18])"
      ],
      "execution_count": 14,
      "outputs": [
        {
          "output_type": "execute_result",
          "data": {
            "text/plain": [
              "1.0000000246336196"
            ]
          },
          "metadata": {
            "tags": []
          },
          "execution_count": 14
        }
      ]
    },
    {
      "cell_type": "code",
      "metadata": {
        "id": "sm7U4JiNRlsY",
        "colab_type": "code",
        "outputId": "64ad471f-93ab-4c9f-f222-f06b33893ec5",
        "colab": {
          "base_uri": "https://localhost:8080/",
          "height": 281
        }
      },
      "source": [
        "plt.bar(range(43), y_pred_prob[400])"
      ],
      "execution_count": 15,
      "outputs": [
        {
          "output_type": "execute_result",
          "data": {
            "text/plain": [
              "<BarContainer object of 43 artists>"
            ]
          },
          "metadata": {
            "tags": []
          },
          "execution_count": 15
        },
        {
          "output_type": "display_data",
          "data": {
            "image/png": "[encoded data removed]",
            "text/plain": [
              "<Figure size 432x288 with 1 Axes>"
            ]
          },
          "metadata": {
            "tags": []
          }
        }
      ]
    },
    {
      "cell_type": "code",
      "metadata": {
        "id": "8spLskOVPpCV",
        "colab_type": "code",
        "colab": {}
      },
      "source": [
        "df = pd.read_csv('data/signnames.csv')\n",
        "#df.to_dict()['b']  # klucze jako id a wartość jako labels\n",
        "labels_dict = df.to_dict()['b']"
      ],
      "execution_count": 0,
      "outputs": []
    },
    {
      "cell_type": "code",
      "metadata": {
        "id": "_PQrQ35aFBOy",
        "colab_type": "code",
        "outputId": "0dbe6662-6533-4549-af9e-350b405dbaed",
        "colab": {
          "base_uri": "https://localhost:8080/",
          "height": 33
        }
      },
      "source": [
        "labels_dict [ np.argmax(y_pred_prob[400]) ] #zwraca index gdzie jest maxymalna warość"
      ],
      "execution_count": 17,
      "outputs": [
        {
          "output_type": "execute_result",
          "data": {
            "text/plain": [
              "'Speed limit (30km/h)'"
            ]
          },
          "metadata": {
            "tags": []
          },
          "execution_count": 17
        }
      ]
    },
    {
      "cell_type": "code",
      "metadata": {
        "id": "MXWpdAIDQnby",
        "colab_type": "code",
        "colab": {}
      },
      "source": [
        "# pomyłka przewidział 7km a jest 30km/h"
      ],
      "execution_count": 0,
      "outputs": []
    },
    {
      "cell_type": "code",
      "metadata": {
        "id": "6F876sorDW43",
        "colab_type": "code",
        "outputId": "d3a45e00-275b-4f55-e0fb-d9e220792daa",
        "colab": {
          "base_uri": "https://localhost:8080/",
          "height": 282
        }
      },
      "source": [
        "plt.imshow(X_test[400])\n",
        "# this sign i"
      ],
      "execution_count": 18,
      "outputs": [
        {
          "output_type": "execute_result",
          "data": {
            "text/plain": [
              "<matplotlib.image.AxesImage at 0x7fc604144358>"
            ]
          },
          "metadata": {
            "tags": []
          },
          "execution_count": 18
        },
        {
          "output_type": "display_data",
          "data": {
            "image/png": "[encoded data removed]",
            "text/plain": [
              "<Figure size 432x288 with 1 Axes>"
            ]
          },
          "metadata": {
            "tags": []
          }
        }
      ]
    },
    {
      "cell_type": "code",
      "metadata": {
        "id": "Tts01rzMERz5",
        "colab_type": "code",
        "outputId": "39298236-74ab-4617-bdd5-a2c119745c43",
        "colab": {
          "base_uri": "https://localhost:8080/",
          "height": 33
        }
      },
      "source": [
        "ls data"
      ],
      "execution_count": 19,
      "outputs": [
        {
          "output_type": "stream",
          "text": [
            "signnames.csv  test.p  train.p\n"
          ],
          "name": "stdout"
        }
      ]
    },
    {
      "cell_type": "code",
      "metadata": {
        "id": "bPGiznNhEk4X",
        "colab_type": "code",
        "outputId": "6543a989-a1dd-4a5b-91e4-2dad4da6ffa3",
        "colab": {
          "base_uri": "https://localhost:8080/",
          "height": 33
        }
      },
      "source": [
        "labels_dict [1] ## to już zgadnięte 30 to 30 "
      ],
      "execution_count": 20,
      "outputs": [
        {
          "output_type": "execute_result",
          "data": {
            "text/plain": [
              "'Speed limit (30km/h)'"
            ]
          },
          "metadata": {
            "tags": []
          },
          "execution_count": 20
        }
      ]
    },
    {
      "cell_type": "code",
      "metadata": {
        "id": "aalsyJEDDRId",
        "colab_type": "code",
        "colab": {}
      },
      "source": [
        "# ok teraz prognozujemy "
      ],
      "execution_count": 0,
      "outputs": []
    },
    {
      "cell_type": "code",
      "metadata": {
        "id": "SLOIENu6EUBe",
        "colab_type": "code",
        "colab": {
          "base_uri": "https://localhost:8080/",
          "height": 33
        },
        "outputId": "635ea62d-4ab7-43c7-885f-7b608831bc87"
      },
      "source": [
        "def predict(model_trained, X_test, y_test, scoring=accuracy_score):\n",
        "\n",
        "  y_test_norm = np.argmax(y_test, axis=1)\n",
        "\n",
        "  y_pred_prob = model_trained.predict(X_test)\n",
        "  y_pred = np.argmax(y_pred_prob, axis=1)\n",
        "\n",
        "  return scoring(y_test_norm, y_pred)"
      ],
      "execution_count": 50,
      "outputs": [
        {
          "output_type": "stream",
          "text": [
            "ERROR! Session/line number was not unique in database. History logging moved to new session 63\n"
          ],
          "name": "stdout"
        }
      ]
    },
    {
      "cell_type": "code",
      "metadata": {
        "id": "cX-TWaPrlpus",
        "colab_type": "code",
        "colab": {
          "base_uri": "https://localhost:8080/",
          "height": 33
        },
        "outputId": "b31b8b60-6ac0-41dd-efb5-8dd88aca14e9"
      },
      "source": [
        "predict(model_trained, X_test, y_test)"
      ],
      "execution_count": 51,
      "outputs": [
        {
          "output_type": "execute_result",
          "data": {
            "text/plain": [
              "0.8331065759637188"
            ]
          },
          "metadata": {
            "tags": []
          },
          "execution_count": 51
        }
      ]
    },
    {
      "cell_type": "code",
      "metadata": {
        "id": "x4IceMpktlNV",
        "colab_type": "code",
        "colab": {}
      },
      "source": [
        "## ok 83 to średni wynik - treaz spróbujemy podkręcić"
      ],
      "execution_count": 0,
      "outputs": []
    },
    {
      "cell_type": "code",
      "metadata": {
        "id": "2RCvJOsFtwob",
        "colab_type": "code",
        "colab": {}
      },
      "source": [
        "def train_and_predict(model):\n",
        "  model_trained = train_model(model, X_train, y_train)\n",
        "  return predict(model_trained, X_test, y_test)"
      ],
      "execution_count": 0,
      "outputs": []
    },
    {
      "cell_type": "code",
      "metadata": {
        "id": "Mvq_tW1owEf2",
        "colab_type": "code",
        "colab": {
          "base_uri": "https://localhost:8080/",
          "height": 33
        },
        "outputId": "1bee8740-549a-4378-bf52-da20997d37e8"
      },
      "source": [
        ""
      ],
      "execution_count": 62,
      "outputs": [
        {
          "output_type": "stream",
          "text": [
            "Using TensorFlow backend.\n"
          ],
          "name": "stderr"
        }
      ]
    },
    {
      "cell_type": "code",
      "metadata": {
        "id": "x25P7BssmSGS",
        "colab_type": "code",
        "colab": {
          "base_uri": "https://localhost:8080/",
          "height": 196
        },
        "outputId": "a423c989-da5b-46aa-b237-7a2233541697"
      },
      "source": [
        "def get_cnn_v2(input_shape, num_classes):\n",
        "  return Sequential([\n",
        "        Conv2D(filters=32, kernel_size=(3,3), activation='relu', input_shape=input_shape),\n",
        "        MaxPool2D(),\n",
        "        Dropout(0.3),  \n",
        "    \n",
        "        Conv2D(filters=64, kernel_size=(3,3), activation='relu'),\n",
        "        MaxPool2D(),\n",
        "        Dropout(0.3),  \n",
        "\n",
        "        Flatten(),\n",
        "\n",
        "        Dense(1024, activation='relu'),  \n",
        "        Dropout(0.3),    \n",
        "\n",
        "        Dense(num_classes, activation='softmax'),  \n",
        "                \n",
        "      ])\n",
        "\n",
        "train_and_predict( get_cnn_v2(input_shape, num_classes) )\n",
        "\n"
      ],
      "execution_count": 75,
      "outputs": [
        {
          "output_type": "stream",
          "text": [
            "Epoch 1/5\n",
            "272/272 [==============================] - 4s 15ms/step - loss: 4.4209 - accuracy: 0.4088 - val_loss: 0.5817 - val_accuracy: 0.8648\n",
            "Epoch 2/5\n",
            "272/272 [==============================] - 4s 14ms/step - loss: 0.6618 - accuracy: 0.8080 - val_loss: 0.1767 - val_accuracy: 0.9639\n",
            "Epoch 3/5\n",
            "272/272 [==============================] - 4s 14ms/step - loss: 0.3791 - accuracy: 0.8878 - val_loss: 0.0994 - val_accuracy: 0.9804\n",
            "Epoch 4/5\n",
            "272/272 [==============================] - 4s 14ms/step - loss: 0.2725 - accuracy: 0.9204 - val_loss: 0.0664 - val_accuracy: 0.9866\n",
            "Epoch 5/5\n",
            "272/272 [==============================] - 4s 14ms/step - loss: 0.2084 - accuracy: 0.9388 - val_loss: 0.0371 - val_accuracy: 0.9931\n"
          ],
          "name": "stdout"
        },
        {
          "output_type": "execute_result",
          "data": {
            "text/plain": [
              "0.9408163265306122"
            ]
          },
          "metadata": {
            "tags": []
          },
          "execution_count": 75
        }
      ]
    },
    {
      "cell_type": "code",
      "metadata": {
        "id": "IhccMidQtvTD",
        "colab_type": "code",
        "colab": {}
      },
      "source": [
        "#ok 3 model (po 2 warstwy takie same konwolucyjne obok siebie )"
      ],
      "execution_count": 0,
      "outputs": []
    },
    {
      "cell_type": "code",
      "metadata": {
        "id": "jZdQ9ID_qTxe",
        "colab_type": "code",
        "colab": {
          "base_uri": "https://localhost:8080/",
          "height": 196
        },
        "outputId": "ec7563e6-cf3c-45e9-8f51-fc369f1a963f"
      },
      "source": [
        "def get_cnn_v3(input_shape, num_classes):\n",
        "  return Sequential([\n",
        "        Conv2D(filters=32, kernel_size=(3,3), activation='relu', input_shape=input_shape),\n",
        "        Conv2D(filters=32, kernel_size=(3,3), activation='relu'),\n",
        "        MaxPool2D(),\n",
        "        Dropout(0.3),  \n",
        "    \n",
        "        Conv2D(filters=64, kernel_size=(3,3), activation='relu'),\n",
        "        Conv2D(filters=64, kernel_size=(3,3), activation='relu'),  # 2 warstwy konwolucyjne obok siebie\n",
        "        MaxPool2D(),\n",
        "        Dropout(0.3),  \n",
        "\n",
        "        Flatten(),\n",
        "\n",
        "        Dense(1024, activation='relu'),  \n",
        "        Dropout(0.3),    \n",
        "\n",
        "        Dense(num_classes, activation='softmax'),  \n",
        "                \n",
        "      ])\n",
        "\n",
        "train_and_predict( get_cnn_v3(input_shape, num_classes) )\n"
      ],
      "execution_count": 77,
      "outputs": [
        {
          "output_type": "stream",
          "text": [
            "Epoch 1/5\n",
            "272/272 [==============================] - 6s 21ms/step - loss: 1.8781 - accuracy: 0.5992 - val_loss: 0.1943 - val_accuracy: 0.9588\n",
            "Epoch 2/5\n",
            "272/272 [==============================] - 5s 19ms/step - loss: 0.3792 - accuracy: 0.8905 - val_loss: 0.0890 - val_accuracy: 0.9805\n",
            "Epoch 3/5\n",
            "272/272 [==============================] - 5s 19ms/step - loss: 0.2277 - accuracy: 0.9330 - val_loss: 0.0368 - val_accuracy: 0.9911\n",
            "Epoch 4/5\n",
            "272/272 [==============================] - 5s 19ms/step - loss: 0.1538 - accuracy: 0.9542 - val_loss: 0.0259 - val_accuracy: 0.9949\n",
            "Epoch 5/5\n",
            "272/272 [==============================] - 5s 19ms/step - loss: 0.1196 - accuracy: 0.9638 - val_loss: 0.0193 - val_accuracy: 0.9959\n"
          ],
          "name": "stdout"
        },
        {
          "output_type": "execute_result",
          "data": {
            "text/plain": [
              "0.9757369614512472"
            ]
          },
          "metadata": {
            "tags": []
          },
          "execution_count": 77
        }
      ]
    },
    {
      "cell_type": "code",
      "metadata": {
        "id": "iV6vlotpzGRT",
        "colab_type": "code",
        "colab": {}
      },
      "source": [
        "#model 4 więcej warstw"
      ],
      "execution_count": 0,
      "outputs": []
    },
    {
      "cell_type": "code",
      "metadata": {
        "id": "uTK4naI8zVHr",
        "colab_type": "code",
        "colab": {
          "base_uri": "https://localhost:8080/",
          "height": 667
        },
        "outputId": "792f7ee2-0cb3-476b-ee25-6b02bd9cb71d"
      },
      "source": [
        "def get_cnn_v4(input_shape, num_classes):\n",
        "  return Sequential([\n",
        "        Conv2D(filters=32, kernel_size=(3,3), activation='relu', input_shape=input_shape),\n",
        "        Conv2D(filters=32, kernel_size=(3,3), activation='relu', padding='same'),\n",
        "        MaxPool2D(),\n",
        "        Dropout(0.3),  \n",
        "    \n",
        "        Conv2D(filters=64, kernel_size=(3,3), activation='relu', padding='same'),\n",
        "        Conv2D(filters=64, kernel_size=(3,3), activation='relu'),  # 2 warstwy konwolucyjne obok siebie\n",
        "        MaxPool2D(),\n",
        "        Dropout(0.3),  \n",
        "\n",
        "        Conv2D(filters=64, kernel_size=(3,3), activation='relu', padding='same'),\n",
        "        Conv2D(filters=64, kernel_size=(3,3), activation='relu'),  # 2 warstwy konwolucyjne obok siebie\n",
        "        MaxPool2D(),\n",
        "        Dropout(0.3),  \n",
        "\n",
        "        Flatten(),\n",
        "\n",
        "        Dense(1024, activation='relu'),  \n",
        "        Dropout(0.3),    \n",
        "\n",
        "        Dense(num_classes, activation='softmax'),  \n",
        "                \n",
        "      ])\n",
        "\n",
        "#train_and_predict( get_cnn_v4(input_shape, num_classes) )\n",
        "get_cnn_v4(input_shape, num_classes).summary()"
      ],
      "execution_count": 81,
      "outputs": [
        {
          "output_type": "stream",
          "text": [
            "Model: \"sequential_22\"\n",
            "_________________________________________________________________\n",
            "Layer (type)                 Output Shape              Param #   \n",
            "=================================================================\n",
            "conv2d_50 (Conv2D)           (None, 30, 30, 32)        896       \n",
            "_________________________________________________________________\n",
            "conv2d_51 (Conv2D)           (None, 30, 30, 32)        9248      \n",
            "_________________________________________________________________\n",
            "max_pooling2d_13 (MaxPooling (None, 15, 15, 32)        0         \n",
            "_________________________________________________________________\n",
            "dropout_53 (Dropout)         (None, 15, 15, 32)        0         \n",
            "_________________________________________________________________\n",
            "conv2d_52 (Conv2D)           (None, 15, 15, 64)        18496     \n",
            "_________________________________________________________________\n",
            "conv2d_53 (Conv2D)           (None, 13, 13, 64)        36928     \n",
            "_________________________________________________________________\n",
            "max_pooling2d_14 (MaxPooling (None, 6, 6, 64)          0         \n",
            "_________________________________________________________________\n",
            "dropout_54 (Dropout)         (None, 6, 6, 64)          0         \n",
            "_________________________________________________________________\n",
            "conv2d_54 (Conv2D)           (None, 6, 6, 64)          36928     \n",
            "_________________________________________________________________\n",
            "conv2d_55 (Conv2D)           (None, 4, 4, 64)          36928     \n",
            "_________________________________________________________________\n",
            "max_pooling2d_15 (MaxPooling (None, 2, 2, 64)          0         \n",
            "_________________________________________________________________\n",
            "dropout_55 (Dropout)         (None, 2, 2, 64)          0         \n",
            "_________________________________________________________________\n",
            "flatten_20 (Flatten)         (None, 256)               0         \n",
            "_________________________________________________________________\n",
            "dense_36 (Dense)             (None, 1024)              263168    \n",
            "_________________________________________________________________\n",
            "dropout_56 (Dropout)         (None, 1024)              0         \n",
            "_________________________________________________________________\n",
            "dense_37 (Dense)             (None, 43)                44075     \n",
            "=================================================================\n",
            "Total params: 446,667\n",
            "Trainable params: 446,667\n",
            "Non-trainable params: 0\n",
            "_________________________________________________________________\n"
          ],
          "name": "stdout"
        }
      ]
    },
    {
      "cell_type": "code",
      "metadata": {
        "id": "Aarq_j12zqGN",
        "colab_type": "code",
        "colab": {
          "base_uri": "https://localhost:8080/",
          "height": 196
        },
        "outputId": "0d382b36-2e29-4540-9c79-4b71c224ae90"
      },
      "source": [
        "def get_cnn_v4(input_shape, num_classes):\n",
        "  return Sequential([\n",
        "        Conv2D(filters=32, kernel_size=(3,3), activation='relu', input_shape=input_shape),\n",
        "        Conv2D(filters=32, kernel_size=(3,3), activation='relu', padding='same'),\n",
        "        MaxPool2D(),\n",
        "        Dropout(0.3),  \n",
        "    \n",
        "        Conv2D(filters=64, kernel_size=(3,3), activation='relu', padding='same'),\n",
        "        Conv2D(filters=64, kernel_size=(3,3), activation='relu'),  # 2 warstwy konwolucyjne obok siebie\n",
        "        MaxPool2D(),\n",
        "        Dropout(0.3),  \n",
        "\n",
        "        Conv2D(filters=64, kernel_size=(3,3), activation='relu', padding='same'),\n",
        "        Conv2D(filters=64, kernel_size=(3,3), activation='relu'),  # 2 warstwy konwolucyjne obok siebie\n",
        "        MaxPool2D(),\n",
        "        Dropout(0.3),  \n",
        "\n",
        "        Flatten(),\n",
        "\n",
        "        Dense(1024, activation='relu'),  \n",
        "        Dropout(0.3),    \n",
        "\n",
        "        Dense(num_classes, activation='softmax'),  \n",
        "                \n",
        "      ])\n",
        "\n",
        "train_and_predict( get_cnn_v4(input_shape, num_classes) )\n",
        "#get_cnn_v4(input_shape, num_classes).summary()"
      ],
      "execution_count": 82,
      "outputs": [
        {
          "output_type": "stream",
          "text": [
            "Epoch 1/5\n",
            "272/272 [==============================] - 6s 23ms/step - loss: 2.6673 - accuracy: 0.2583 - val_loss: 1.2019 - val_accuracy: 0.6607\n",
            "Epoch 2/5\n",
            "272/272 [==============================] - 6s 23ms/step - loss: 1.0925 - accuracy: 0.6554 - val_loss: 0.4336 - val_accuracy: 0.8739\n",
            "Epoch 3/5\n",
            "272/272 [==============================] - 6s 22ms/step - loss: 0.5724 - accuracy: 0.8192 - val_loss: 0.2129 - val_accuracy: 0.9383\n",
            "Epoch 4/5\n",
            "272/272 [==============================] - 6s 22ms/step - loss: 0.3805 - accuracy: 0.8808 - val_loss: 0.1166 - val_accuracy: 0.9657\n",
            "Epoch 5/5\n",
            "272/272 [==============================] - 6s 22ms/step - loss: 0.2913 - accuracy: 0.9105 - val_loss: 0.0901 - val_accuracy: 0.9721\n"
          ],
          "name": "stdout"
        },
        {
          "output_type": "execute_result",
          "data": {
            "text/plain": [
              "0.9308390022675737"
            ]
          },
          "metadata": {
            "tags": []
          },
          "execution_count": 82
        }
      ]
    },
    {
      "cell_type": "code",
      "metadata": {
        "id": "PJZQ6OVR0hLT",
        "colab_type": "code",
        "colab": {
          "base_uri": "https://localhost:8080/",
          "height": 196
        },
        "outputId": "bd354539-9f58-4ec0-abf4-8d78d2c19b8e"
      },
      "source": [
        "def get_cnn_v5(input_shape, num_classes):\n",
        "  return Sequential([\n",
        "        Conv2D(filters=32, kernel_size=(3,3), activation='relu', input_shape=input_shape),\n",
        "        Conv2D(filters=32, kernel_size=(3,3), activation='relu', padding='same'),\n",
        "        MaxPool2D(),\n",
        "        Dropout(0.3),  \n",
        "    \n",
        "        Conv2D(filters=64, kernel_size=(3,3), activation='relu', padding='same'),\n",
        "        Conv2D(filters=64, kernel_size=(3,3), activation='relu'),  # 2 warstwy konwolucyjne obok siebie\n",
        "        MaxPool2D(),\n",
        "        Dropout(0.3),  \n",
        "\n",
        "        Conv2D(filters=64, kernel_size=(3,3), activation='relu', padding='same'),\n",
        "        Conv2D(filters=64, kernel_size=(3,3), activation='relu'),  # 2 warstwy konwolucyjne obok siebie\n",
        "        MaxPool2D(),\n",
        "        Dropout(0.3),  \n",
        "\n",
        "        Flatten(),\n",
        "\n",
        "        Dense(1024, activation='relu'),  \n",
        "        Dropout(0.3), \n",
        "\n",
        "        Dense(1024, activation='relu'),  \n",
        "        Dropout(0.3),   \n",
        "\n",
        "        Dense(num_classes, activation='softmax'),  \n",
        "                \n",
        "      ])\n",
        "\n",
        "train_and_predict( get_cnn_v5(input_shape, num_classes) )\n",
        "#get_cnn_v4(input_shape, num_classes).summary()"
      ],
      "execution_count": 83,
      "outputs": [
        {
          "output_type": "stream",
          "text": [
            "Epoch 1/5\n",
            "272/272 [==============================] - 6s 24ms/step - loss: 2.8213 - accuracy: 0.2515 - val_loss: 1.1401 - val_accuracy: 0.6499\n",
            "Epoch 2/5\n",
            "272/272 [==============================] - 6s 23ms/step - loss: 1.0195 - accuracy: 0.6792 - val_loss: 0.2645 - val_accuracy: 0.9286\n",
            "Epoch 3/5\n",
            "272/272 [==============================] - 6s 23ms/step - loss: 0.4687 - accuracy: 0.8555 - val_loss: 0.1477 - val_accuracy: 0.9583\n",
            "Epoch 4/5\n",
            "272/272 [==============================] - 6s 23ms/step - loss: 0.2845 - accuracy: 0.9154 - val_loss: 0.0478 - val_accuracy: 0.9869\n",
            "Epoch 5/5\n",
            "272/272 [==============================] - 6s 23ms/step - loss: 0.1970 - accuracy: 0.9438 - val_loss: 0.0403 - val_accuracy: 0.9889\n"
          ],
          "name": "stdout"
        },
        {
          "output_type": "execute_result",
          "data": {
            "text/plain": [
              "0.9757369614512472"
            ]
          },
          "metadata": {
            "tags": []
          },
          "execution_count": 83
        }
      ]
    },
    {
      "cell_type": "code",
      "metadata": {
        "id": "qaJNLHf81ATm",
        "colab_type": "code",
        "colab": {
          "base_uri": "https://localhost:8080/",
          "height": 33
        },
        "outputId": "d118d122-c694-4608-f297-2ed069cae2ee"
      },
      "source": [
        "X_train[0].shape"
      ],
      "execution_count": 84,
      "outputs": [
        {
          "output_type": "execute_result",
          "data": {
            "text/plain": [
              "(32, 32, 3)"
            ]
          },
          "metadata": {
            "tags": []
          },
          "execution_count": 84
        }
      ]
    },
    {
      "cell_type": "code",
      "metadata": {
        "id": "JI4MzuOp1V0f",
        "colab_type": "code",
        "colab": {}
      },
      "source": [
        "## warto 32,32,3 (3 kanały skonwertować do 1 do skali szarości)"
      ],
      "execution_count": 0,
      "outputs": []
    },
    {
      "cell_type": "code",
      "metadata": {
        "id": "uvgOog_61feA",
        "colab_type": "code",
        "colab": {
          "base_uri": "https://localhost:8080/",
          "height": 33
        },
        "outputId": "aca87192-39b3-45c4-8ff6-d04503e2ae99"
      },
      "source": [
        "color.rgb2gray( X_train[0]).shape"
      ],
      "execution_count": 87,
      "outputs": [
        {
          "output_type": "execute_result",
          "data": {
            "text/plain": [
              "(32, 32)"
            ]
          },
          "metadata": {
            "tags": []
          },
          "execution_count": 87
        }
      ]
    },
    {
      "cell_type": "code",
      "metadata": {
        "id": "_487OAHB1sJ7",
        "colab_type": "code",
        "colab": {
          "base_uri": "https://localhost:8080/",
          "height": 282
        },
        "outputId": "80c24333-ce17-4698-a788-be180e967cfc"
      },
      "source": [
        "plt.imshow(color.rgb2gray( X_train[0]), cmap=plt.get_cmap('gray') )"
      ],
      "execution_count": 88,
      "outputs": [
        {
          "output_type": "execute_result",
          "data": {
            "text/plain": [
              "<matplotlib.image.AxesImage at 0x7fc562773c18>"
            ]
          },
          "metadata": {
            "tags": []
          },
          "execution_count": 88
        },
        {
          "output_type": "display_data",
          "data": {
            "image/png": "[encoded data removed]",
            "text/plain": [
              "<Figure size 432x288 with 1 Axes>"
            ]
          },
          "metadata": {
            "tags": []
          }
        }
      ]
    },
    {
      "cell_type": "code",
      "metadata": {
        "id": "wB_OUq951_UT",
        "colab_type": "code",
        "colab": {
          "base_uri": "https://localhost:8080/",
          "height": 33
        },
        "outputId": "b311311e-4628-46f3-84ca-874f18abbe75"
      },
      "source": [
        "# teraz na wszystkich zdjęciach \n",
        "color.rgb2gray( X_train).shape"
      ],
      "execution_count": 89,
      "outputs": [
        {
          "output_type": "execute_result",
          "data": {
            "text/plain": [
              "(34799, 32, 32)"
            ]
          },
          "metadata": {
            "tags": []
          },
          "execution_count": 89
        }
      ]
    },
    {
      "cell_type": "code",
      "metadata": {
        "id": "Ymu1AFE94Cpe",
        "colab_type": "code",
        "colab": {}
      },
      "source": [
        "# ważne reshape żeby udało się wgrać szare do inputa\n",
        "X_train_gray.reshape(-1,32,32,1).shape\n",
        "# - 1 oznacza że biblioteka liczy ten parametr autpomatycznie"
      ],
      "execution_count": 0,
      "outputs": []
    },
    {
      "cell_type": "code",
      "metadata": {
        "id": "rRPg7yuc2Gsj",
        "colab_type": "code",
        "colab": {}
      },
      "source": [
        "X_train_gray = color.rgb2gray( X_train).reshape(-1,32,32,1)\n",
        "X_test_gray = color.rgb2gray( X_test).reshape(-1,32,32,1)"
      ],
      "execution_count": 0,
      "outputs": []
    },
    {
      "cell_type": "code",
      "metadata": {
        "id": "Z6op9TWO2TOa",
        "colab_type": "code",
        "colab": {
          "base_uri": "https://localhost:8080/",
          "height": 196
        },
        "outputId": "f82a6ba4-2d94-464c-d2e5-556586c65a11"
      },
      "source": [
        "#czyli uczymy sie na szarych zdjęciach i prognozujemy szare zdjęcia\n",
        "# input.shape był 32,32,3 a teraz trzeba wkleić 32,32,1\n",
        "\n",
        "model  = get_cnn_v5([32,32,1], num_classes)\n",
        "model_trained = train_model(model, X_train_gray, y_train, params_fit={})\n",
        "predict(model_trained, X_test_gray, y_test)"
      ],
      "execution_count": 96,
      "outputs": [
        {
          "output_type": "stream",
          "text": [
            "Epoch 1/5\n",
            "272/272 [==============================] - 6s 24ms/step - loss: 2.6135 - accuracy: 0.2596 - val_loss: 0.8325 - val_accuracy: 0.7304\n",
            "Epoch 2/5\n",
            "272/272 [==============================] - 6s 23ms/step - loss: 0.5472 - accuracy: 0.8223 - val_loss: 0.1184 - val_accuracy: 0.9674\n",
            "Epoch 3/5\n",
            "272/272 [==============================] - 6s 23ms/step - loss: 0.2315 - accuracy: 0.9254 - val_loss: 0.0705 - val_accuracy: 0.9765\n",
            "Epoch 4/5\n",
            "272/272 [==============================] - 6s 23ms/step - loss: 0.1479 - accuracy: 0.9523 - val_loss: 0.0268 - val_accuracy: 0.9935\n",
            "Epoch 5/5\n",
            "272/272 [==============================] - 6s 23ms/step - loss: 0.1100 - accuracy: 0.9660 - val_loss: 0.0188 - val_accuracy: 0.9945\n"
          ],
          "name": "stdout"
        },
        {
          "output_type": "execute_result",
          "data": {
            "text/plain": [
              "0.9712018140589569"
            ]
          },
          "metadata": {
            "tags": []
          },
          "execution_count": 96
        }
      ]
    },
    {
      "cell_type": "code",
      "metadata": {
        "id": "AWHoRs923mdl",
        "colab_type": "code",
        "colab": {
          "base_uri": "https://localhost:8080/",
          "height": 282
        },
        "outputId": "ed0c8994-17f2-4c12-eabc-7ef324c7cae4"
      },
      "source": [
        "plt.imshow(color.rgb2gray( X_train[0]), cmap=plt.get_cmap('gray') )"
      ],
      "execution_count": 98,
      "outputs": [
        {
          "output_type": "execute_result",
          "data": {
            "text/plain": [
              "<matplotlib.image.AxesImage at 0x7fc5f2d32898>"
            ]
          },
          "metadata": {
            "tags": []
          },
          "execution_count": 98
        },
        {
          "output_type": "display_data",
          "data": {
            "image/png": "[encoded data removed]",
            "text/plain": [
              "<Figure size 432x288 with 1 Axes>"
            ]
          },
          "metadata": {
            "tags": []
          }
        }
      ]
    },
    {
      "cell_type": "code",
      "metadata": {
        "id": "SVPASqWM4ox7",
        "colab_type": "code",
        "colab": {
          "base_uri": "https://localhost:8080/",
          "height": 282
        },
        "outputId": "9f06df45-71df-4c9d-8210-d6b68be1e88f"
      },
      "source": [
        "plt.imshow( X_train[400])"
      ],
      "execution_count": 100,
      "outputs": [
        {
          "output_type": "execute_result",
          "data": {
            "text/plain": [
              "<matplotlib.image.AxesImage at 0x7fc5f2c97198>"
            ]
          },
          "metadata": {
            "tags": []
          },
          "execution_count": 100
        },
        {
          "output_type": "display_data",
          "data": {
            "image/png": "[encoded data removed]",
            "text/plain": [
              "<Figure size 432x288 with 1 Axes>"
            ]
          },
          "metadata": {
            "tags": []
          }
        }
      ]
    },
    {
      "cell_type": "code",
      "metadata": {
        "id": "lcO8nN796qOv",
        "colab_type": "code",
        "colab": {}
      },
      "source": [
        "def preproc_img(img):\n",
        "  hsv = color.rgb2hsv(img)\n",
        "  hsv[:, :, 2] = exposure.equalize_adapthist(hsv[: , : ,2])\n",
        "  img = color.hsv2rgb(hsv)\n",
        "\n",
        "  return img"
      ],
      "execution_count": 0,
      "outputs": []
    },
    {
      "cell_type": "code",
      "metadata": {
        "id": "JflNUZk947Tb",
        "colab_type": "code",
        "colab": {
          "base_uri": "https://localhost:8080/",
          "height": 282
        },
        "outputId": "e436be29-cb3a-4a66-ea0d-e38ddfce8c39"
      },
      "source": [
        "plt.imshow( preproc_img(X_train[400]) )"
      ],
      "execution_count": 106,
      "outputs": [
        {
          "output_type": "execute_result",
          "data": {
            "text/plain": [
              "<matplotlib.image.AxesImage at 0x7fc5f2c1f668>"
            ]
          },
          "metadata": {
            "tags": []
          },
          "execution_count": 106
        },
        {
          "output_type": "display_data",
          "data": {
            "image/png": "[encoded data removed]",
            "text/plain": [
              "<Figure size 432x288 with 1 Axes>"
            ]
          },
          "metadata": {
            "tags": []
          }
        }
      ]
    },
    {
      "cell_type": "code",
      "metadata": {
        "id": "JsUwIOCV5nmN",
        "colab_type": "code",
        "colab": {
          "base_uri": "https://localhost:8080/",
          "height": 207
        },
        "outputId": "6a4243b0-d3fd-472e-f602-25b839cd4b57"
      },
      "source": [
        "# kod wolny żeby poprawić wynik \n",
        "X_train_prp = X_train.copy().astype(np.float32)\n",
        "X_test_prp = X_test.copy().astype(np.float32)\n",
        "\n",
        "for i in tqdm(range(X_train.shape[0])):\n",
        "  X_train_prpp[i] = preproc_img(X_train[i])"
      ],
      "execution_count": 107,
      "outputs": [
        {
          "output_type": "error",
          "ename": "NameError",
          "evalue": "ignored",
          "traceback": [
            "\u001b[0;31m---------------------------------------------------------------------------\u001b[0m",
            "\u001b[0;31mNameError\u001b[0m                                 Traceback (most recent call last)",
            "\u001b[0;32m<ipython-input-107-734b84329954>\u001b[0m in \u001b[0;36m<module>\u001b[0;34m()\u001b[0m\n\u001b[1;32m      2\u001b[0m \u001b[0mX_test_prp\u001b[0m \u001b[0;34m=\u001b[0m \u001b[0mX_test\u001b[0m\u001b[0;34m.\u001b[0m\u001b[0mcopy\u001b[0m\u001b[0;34m(\u001b[0m\u001b[0;34m)\u001b[0m\u001b[0;34m.\u001b[0m\u001b[0mastype\u001b[0m\u001b[0;34m(\u001b[0m\u001b[0mnp\u001b[0m\u001b[0;34m.\u001b[0m\u001b[0mfloat32\u001b[0m\u001b[0;34m)\u001b[0m\u001b[0;34m\u001b[0m\u001b[0;34m\u001b[0m\u001b[0m\n\u001b[1;32m      3\u001b[0m \u001b[0;34m\u001b[0m\u001b[0m\n\u001b[0;32m----> 4\u001b[0;31m \u001b[0;32mfor\u001b[0m \u001b[0mi\u001b[0m \u001b[0;32min\u001b[0m \u001b[0mtqdm\u001b[0m\u001b[0;34m(\u001b[0m\u001b[0mrange\u001b[0m\u001b[0;34m(\u001b[0m\u001b[0mX_train\u001b[0m\u001b[0;34m.\u001b[0m\u001b[0mshape\u001b[0m\u001b[0;34m[\u001b[0m\u001b[0;36m0\u001b[0m\u001b[0;34m]\u001b[0m\u001b[0;34m)\u001b[0m\u001b[0;34m)\u001b[0m\u001b[0;34m:\u001b[0m\u001b[0;34m\u001b[0m\u001b[0;34m\u001b[0m\u001b[0m\n\u001b[0m\u001b[1;32m      5\u001b[0m   \u001b[0mX_train_prpp\u001b[0m\u001b[0;34m[\u001b[0m\u001b[0mi\u001b[0m\u001b[0;34m]\u001b[0m \u001b[0;34m=\u001b[0m \u001b[0mpreproc_img\u001b[0m\u001b[0;34m(\u001b[0m\u001b[0mX_train\u001b[0m\u001b[0;34m[\u001b[0m\u001b[0mi\u001b[0m\u001b[0;34m]\u001b[0m\u001b[0;34m)\u001b[0m\u001b[0;34m\u001b[0m\u001b[0;34m\u001b[0m\u001b[0m\n",
            "\u001b[0;31mNameError\u001b[0m: name 'tqdm' is not defined"
          ]
        }
      ]
    },
    {
      "cell_type": "code",
      "metadata": {
        "id": "piDtltof79Xt",
        "colab_type": "code",
        "colab": {}
      },
      "source": [
        ""
      ],
      "execution_count": 0,
      "outputs": []
    }
  ]
}